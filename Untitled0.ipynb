{
 "metadata": {
  "name": "",
  "signature": "sha256:c425f86dd492b6ed722bcb2be10f06b47c9c3915e19b2524edd1e3e390f710e3"
 },
 "nbformat": 3,
 "nbformat_minor": 0,
 "worksheets": [
  {
   "cells": [
    {
     "cell_type": "code",
     "collapsed": false,
     "input": [
      "import asyncio\n",
      "import aiohttp"
     ],
     "language": "python",
     "metadata": {},
     "outputs": [],
     "prompt_number": 1
    },
    {
     "cell_type": "code",
     "collapsed": false,
     "input": [
      "import httpretty\n",
      "%pdb"
     ],
     "language": "python",
     "metadata": {},
     "outputs": [
      {
       "output_type": "stream",
       "stream": "stdout",
       "text": [
        "Automatic pdb calling has been turned ON\n"
       ]
      }
     ],
     "prompt_number": 7
    },
    {
     "cell_type": "code",
     "collapsed": false,
     "input": [
      "ioloop = asyncio.get_event_loop()\n",
      "req = aiohttp.request('GET', 'http://google.com')"
     ],
     "language": "python",
     "metadata": {},
     "outputs": [],
     "prompt_number": 8
    },
    {
     "cell_type": "code",
     "collapsed": false,
     "input": [
      "ioloop.run_until_complete(req)"
     ],
     "language": "python",
     "metadata": {},
     "outputs": [
      {
       "metadata": {},
       "output_type": "pyout",
       "prompt_number": 4,
       "text": [
        "<ClientResponse(http://www.google.com/) [200 OK]>\n",
        "<CaseInsensitiveMultiDict>\n",
        "[('DATE', 'Wed, 10 Dec 2014 14:54:20 GMT'),\n",
        " ('EXPIRES', '-1'),\n",
        " ('CACHE-CONTROL', 'private, max-age=0'),\n",
        " ('CONTENT-TYPE', 'text/html; charset=ISO-8859-1'),\n",
        " ('SET-COOKIE',\n",
        "  'PREF=ID=57ecc42de119e19a:FF=0:TM=1418223260:LM=1418223260:S=Cx9uEDo88wLDFPsa; '\n",
        "  'expires=Fri, 09-Dec-2016 14:54:20 GMT; path=/; domain=.google.com'),\n",
        " ('SET-COOKIE',\n",
        "  'NID=67=lCMcXdA17VXnj_EvimMI4Z4HkZ_N9CE3PPgxz7E1ptkfVhG5HhpxfJJbE8eoTrSaSX3waVes8GGOkpgbalR0G7K-OsCluk13mzwZJLkx6REZnTIphBmxPna_nJp9poaD; '\n",
        "  'expires=Thu, 11-Jun-2015 14:54:20 GMT; path=/; domain=.google.com; '\n",
        "  'HttpOnly'),\n",
        " ('P3P',\n",
        "  'CP=\"This is not a P3P policy! See '\n",
        "  'http://www.google.com/support/accounts/bin/answer.py?hl=en&answer=151657 '\n",
        "  'for more info.\"'),\n",
        " ('SERVER', 'gws'),\n",
        " ('X-XSS-PROTECTION', '1; mode=block'),\n",
        " ('X-FRAME-OPTIONS', 'SAMEORIGIN'),\n",
        " ('ALTERNATE-PROTOCOL', '80:quic,p=0.02'),\n",
        " ('TRANSFER-ENCODING', 'chunked')]"
       ]
      }
     ],
     "prompt_number": 4
    },
    {
     "cell_type": "code",
     "collapsed": false,
     "input": [
      "httpretty.enable()\n",
      "httpretty.register_uri(httpretty.GET, 'http://google.com')"
     ],
     "language": "python",
     "metadata": {},
     "outputs": [],
     "prompt_number": 9
    },
    {
     "cell_type": "code",
     "collapsed": false,
     "input": [
      "ioloop.run_until_complete(req)"
     ],
     "language": "python",
     "metadata": {},
     "outputs": [
      {
       "output_type": "stream",
       "stream": "stderr",
       "text": [
        "ERROR:asyncio:Fatal write error on socket transport\n",
        "protocol: <aiohttp.parsers.StreamProtocol object at 0x1084344a8>\n",
        "transport: <_SelectorSocketTransport fd=54 read=polling write=<idle, bufsize=0>>\n",
        "Traceback (most recent call last):\n",
        "  File \"/usr/local/Cellar/python3/3.4.2_1/Frameworks/Python.framework/Versions/3.4/lib/python3.4/asyncio/selector_events.py\", line 620, in write\n",
        "    n = self._sock.send(data)\n",
        "  File \"/Users/chrisseto/.virtualenvs/waterbutler/lib/python3.4/site-packages/httpretty/core.py\", line 419, in send\n",
        "    return self.debug(self.truesock.send, *args, **kwargs)\n",
        "  File \"/Users/chrisseto/.virtualenvs/waterbutler/lib/python3.4/site-packages/httpretty/core.py\", line 412, in debug\n",
        "    raise RuntimeError(\"\\n\".join(message))\n",
        "RuntimeError: HTTPretty intercepted and unexpected socket method call.\n",
        "Please open an issue at 'https://github.com/gabrielfalcao/HTTPretty/issues'\n",
        "And paste the following traceback:\n",
        "\n",
        "[b'  File \"<string>\", line 1, in <module>\\n', b'  File \"/Users/chrisseto/.virtualenvs/waterbutler/lib/python3.4/site-packages/IPython/kernel/zmq/kernelapp.py\", line 469, in main\\n    app.start()\\n', b'  File \"/Users/chrisseto/.virtualenvs/waterbutler/lib/python3.4/site-packages/IPython/kernel/zmq/kernelapp.py\", line 459, in start\\n    ioloop.IOLoop.instance().start()\\n', b'  File \"/Users/chrisseto/.virtualenvs/waterbutler/lib/python3.4/site-packages/zmq/eventloop/ioloop.py\", line 151, in start\\n    super(ZMQIOLoop, self).start()\\n', b'  File \"/Users/chrisseto/.virtualenvs/waterbutler/lib/python3.4/site-packages/tornado/ioloop.py\", line 837, in start\\n    handler_func(fd_obj, events)\\n', b'  File \"/Users/chrisseto/.virtualenvs/waterbutler/lib/python3.4/site-packages/tornado/stack_context.py\", line 275, in null_wrapper\\n    return fn(*args, **kwargs)\\n', b'  File \"/Users/chrisseto/.virtualenvs/waterbutler/lib/python3.4/site-packages/zmq/eventloop/zmqstream.py\", line 433, in _handle_events\\n    self._handle_recv()\\n', b'  File \"/Users/chrisseto/.virtualenvs/waterbutler/lib/python3.4/site-packages/zmq/eventloop/zmqstream.py\", line 465, in _handle_recv\\n    self._run_callback(callback, msg)\\n', b'  File \"/Users/chrisseto/.virtualenvs/waterbutler/lib/python3.4/site-packages/zmq/eventloop/zmqstream.py\", line 407, in _run_callback\\n    callback(*args, **kwargs)\\n', b'  File \"/Users/chrisseto/.virtualenvs/waterbutler/lib/python3.4/site-packages/tornado/stack_context.py\", line 275, in null_wrapper\\n    return fn(*args, **kwargs)\\n', b'  File \"/Users/chrisseto/.virtualenvs/waterbutler/lib/python3.4/site-packages/IPython/kernel/zmq/ipkernel.py\", line 281, in dispatcher\\n    return self.dispatch_shell(stream, msg)\\n', b'  File \"/Users/chrisseto/.virtualenvs/waterbutler/lib/python3.4/site-packages/IPython/kernel/zmq/ipkernel.py\", line 245, in dispatch_shell\\n    handler(stream, idents, msg)\\n', b'  File \"/Users/chrisseto/.virtualenvs/waterbutler/lib/python3.4/site-packages/IPython/kernel/zmq/ipkernel.py\", line 389, in execute_request\\n    shell.run_cell(code, store_history=store_history, silent=silent)\\n', b'  File \"/Users/chrisseto/.virtualenvs/waterbutler/lib/python3.4/site-packages/IPython/core/interactiveshell.py\", line 2741, in run_cell\\n    interactivity=interactivity, compiler=compiler)\\n', b'  File \"/Users/chrisseto/.virtualenvs/waterbutler/lib/python3.4/site-packages/IPython/core/interactiveshell.py\", line 2833, in run_ast_nodes\\n    if self.run_code(code):\\n', b'  File \"/Users/chrisseto/.virtualenvs/waterbutler/lib/python3.4/site-packages/IPython/core/interactiveshell.py\", line 2883, in run_code\\n    exec(code_obj, self.user_global_ns, self.user_ns)\\n', b'  File \"<ipython-input-10-5a6c4d2fb4a2>\", line 1, in <module>\\n    ioloop.run_until_complete(req)\\n', b'  File \"/usr/local/Cellar/python3/3.4.2_1/Frameworks/Python.framework/Versions/3.4/lib/python3.4/asyncio/base_events.py\", line 263, in run_until_complete\\n    self.run_forever()\\n', b'  File \"/usr/local/Cellar/python3/3.4.2_1/Frameworks/Python.framework/Versions/3.4/lib/python3.4/asyncio/base_events.py\", line 236, in run_forever\\n    self._run_once()\\n', b'  File \"/usr/local/Cellar/python3/3.4.2_1/Frameworks/Python.framework/Versions/3.4/lib/python3.4/asyncio/base_events.py\", line 1048, in _run_once\\n    handle._run()\\n', b'  File \"/usr/local/Cellar/python3/3.4.2_1/Frameworks/Python.framework/Versions/3.4/lib/python3.4/asyncio/events.py\", line 119, in _run\\n    self._callback(*self._args)\\n', b'  File \"/usr/local/Cellar/python3/3.4.2_1/Frameworks/Python.framework/Versions/3.4/lib/python3.4/asyncio/tasks.py\", line 290, in _wakeup\\n    self._step(value, None)\\n', b'  File \"/usr/local/Cellar/python3/3.4.2_1/Frameworks/Python.framework/Versions/3.4/lib/python3.4/asyncio/tasks.py\", line 236, in _step\\n    result = next(coro)\\n', b'  File \"/Users/chrisseto/.virtualenvs/waterbutler/lib/python3.4/site-packages/aiohttp/client.py\", line 110, in request\\n    resp = req.send(conn.writer, conn.reader)\\n', b'  File \"/Users/chrisseto/.virtualenvs/waterbutler/lib/python3.4/site-packages/aiohttp/client.py\", line 543, in send\\n    request.send_headers()\\n', b'  File \"/Users/chrisseto/.virtualenvs/waterbutler/lib/python3.4/site-packages/aiohttp/protocol.py\", line 662, in send_headers\\n    self.transport.write(hdrs)\\n', b'  File \"/usr/local/Cellar/python3/3.4.2_1/Frameworks/Python.framework/Versions/3.4/lib/python3.4/asyncio/streams.py\", line 269, in write\\n    self._transport.write(data)\\n', b'  File \"/usr/local/Cellar/python3/3.4.2_1/Frameworks/Python.framework/Versions/3.4/lib/python3.4/asyncio/selector_events.py\", line 620, in write\\n    n = self._sock.send(data)\\n', b'  File \"/Users/chrisseto/.virtualenvs/waterbutler/lib/python3.4/site-packages/httpretty/core.py\", line 419, in send\\n    return self.debug(self.truesock.send, *args, **kwargs)\\n', b'  File \"/Users/chrisseto/.virtualenvs/waterbutler/lib/python3.4/site-packages/httpretty/core.py\", line 403, in debug\\n    lines = list(map(utf8, traceback.format_stack(frame)))\\n']\n"
       ]
      },
      {
       "ename": "RuntimeError",
       "evalue": "HTTPretty intercepted and unexpected socket method call.\nPlease open an issue at 'https://github.com/gabrielfalcao/HTTPretty/issues'\nAnd paste the following traceback:\n\n[b'  File \"<string>\", line 1, in <module>\\n', b'  File \"/Users/chrisseto/.virtualenvs/waterbutler/lib/python3.4/site-packages/IPython/kernel/zmq/kernelapp.py\", line 469, in main\\n    app.start()\\n', b'  File \"/Users/chrisseto/.virtualenvs/waterbutler/lib/python3.4/site-packages/IPython/kernel/zmq/kernelapp.py\", line 459, in start\\n    ioloop.IOLoop.instance().start()\\n', b'  File \"/Users/chrisseto/.virtualenvs/waterbutler/lib/python3.4/site-packages/zmq/eventloop/ioloop.py\", line 151, in start\\n    super(ZMQIOLoop, self).start()\\n', b'  File \"/Users/chrisseto/.virtualenvs/waterbutler/lib/python3.4/site-packages/tornado/ioloop.py\", line 837, in start\\n    handler_func(fd_obj, events)\\n', b'  File \"/Users/chrisseto/.virtualenvs/waterbutler/lib/python3.4/site-packages/tornado/stack_context.py\", line 275, in null_wrapper\\n    return fn(*args, **kwargs)\\n', b'  File \"/Users/chrisseto/.virtualenvs/waterbutler/lib/python3.4/site-packages/zmq/eventloop/zmqstream.py\", line 433, in _handle_events\\n    self._handle_recv()\\n', b'  File \"/Users/chrisseto/.virtualenvs/waterbutler/lib/python3.4/site-packages/zmq/eventloop/zmqstream.py\", line 465, in _handle_recv\\n    self._run_callback(callback, msg)\\n', b'  File \"/Users/chrisseto/.virtualenvs/waterbutler/lib/python3.4/site-packages/zmq/eventloop/zmqstream.py\", line 407, in _run_callback\\n    callback(*args, **kwargs)\\n', b'  File \"/Users/chrisseto/.virtualenvs/waterbutler/lib/python3.4/site-packages/tornado/stack_context.py\", line 275, in null_wrapper\\n    return fn(*args, **kwargs)\\n', b'  File \"/Users/chrisseto/.virtualenvs/waterbutler/lib/python3.4/site-packages/IPython/kernel/zmq/ipkernel.py\", line 281, in dispatcher\\n    return self.dispatch_shell(stream, msg)\\n', b'  File \"/Users/chrisseto/.virtualenvs/waterbutler/lib/python3.4/site-packages/IPython/kernel/zmq/ipkernel.py\", line 245, in dispatch_shell\\n    handler(stream, idents, msg)\\n', b'  File \"/Users/chrisseto/.virtualenvs/waterbutler/lib/python3.4/site-packages/IPython/kernel/zmq/ipkernel.py\", line 389, in execute_request\\n    shell.run_cell(code, store_history=store_history, silent=silent)\\n', b'  File \"/Users/chrisseto/.virtualenvs/waterbutler/lib/python3.4/site-packages/IPython/core/interactiveshell.py\", line 2741, in run_cell\\n    interactivity=interactivity, compiler=compiler)\\n', b'  File \"/Users/chrisseto/.virtualenvs/waterbutler/lib/python3.4/site-packages/IPython/core/interactiveshell.py\", line 2833, in run_ast_nodes\\n    if self.run_code(code):\\n', b'  File \"/Users/chrisseto/.virtualenvs/waterbutler/lib/python3.4/site-packages/IPython/core/interactiveshell.py\", line 2883, in run_code\\n    exec(code_obj, self.user_global_ns, self.user_ns)\\n', b'  File \"<ipython-input-10-5a6c4d2fb4a2>\", line 1, in <module>\\n    ioloop.run_until_complete(req)\\n', b'  File \"/usr/local/Cellar/python3/3.4.2_1/Frameworks/Python.framework/Versions/3.4/lib/python3.4/asyncio/base_events.py\", line 263, in run_until_complete\\n    self.run_forever()\\n', b'  File \"/usr/local/Cellar/python3/3.4.2_1/Frameworks/Python.framework/Versions/3.4/lib/python3.4/asyncio/base_events.py\", line 236, in run_forever\\n    self._run_once()\\n', b'  File \"/usr/local/Cellar/python3/3.4.2_1/Frameworks/Python.framework/Versions/3.4/lib/python3.4/asyncio/base_events.py\", line 1048, in _run_once\\n    handle._run()\\n', b'  File \"/usr/local/Cellar/python3/3.4.2_1/Frameworks/Python.framework/Versions/3.4/lib/python3.4/asyncio/events.py\", line 119, in _run\\n    self._callback(*self._args)\\n', b'  File \"/usr/local/Cellar/python3/3.4.2_1/Frameworks/Python.framework/Versions/3.4/lib/python3.4/asyncio/tasks.py\", line 290, in _wakeup\\n    self._step(value, None)\\n', b'  File \"/usr/local/Cellar/python3/3.4.2_1/Frameworks/Python.framework/Versions/3.4/lib/python3.4/asyncio/tasks.py\", line 236, in _step\\n    result = next(coro)\\n', b'  File \"/Users/chrisseto/.virtualenvs/waterbutler/lib/python3.4/site-packages/aiohttp/client.py\", line 110, in request\\n    resp = req.send(conn.writer, conn.reader)\\n', b'  File \"/Users/chrisseto/.virtualenvs/waterbutler/lib/python3.4/site-packages/aiohttp/client.py\", line 543, in send\\n    request.send_headers()\\n', b'  File \"/Users/chrisseto/.virtualenvs/waterbutler/lib/python3.4/site-packages/aiohttp/protocol.py\", line 662, in send_headers\\n    self.transport.write(hdrs)\\n', b'  File \"/usr/local/Cellar/python3/3.4.2_1/Frameworks/Python.framework/Versions/3.4/lib/python3.4/asyncio/streams.py\", line 269, in write\\n    self._transport.write(data)\\n', b'  File \"/usr/local/Cellar/python3/3.4.2_1/Frameworks/Python.framework/Versions/3.4/lib/python3.4/asyncio/selector_events.py\", line 620, in write\\n    n = self._sock.send(data)\\n', b'  File \"/Users/chrisseto/.virtualenvs/waterbutler/lib/python3.4/site-packages/httpretty/core.py\", line 419, in send\\n    return self.debug(self.truesock.send, *args, **kwargs)\\n', b'  File \"/Users/chrisseto/.virtualenvs/waterbutler/lib/python3.4/site-packages/httpretty/core.py\", line 403, in debug\\n    lines = list(map(utf8, traceback.format_stack(frame)))\\n']",
       "output_type": "pyerr",
       "traceback": [
        "\u001b[0;31m---------------------------------------------------------------------------\u001b[0m\n\u001b[0;31mRuntimeError\u001b[0m                              Traceback (most recent call last)",
        "\u001b[0;32m<ipython-input-10-5a6c4d2fb4a2>\u001b[0m in \u001b[0;36m<module>\u001b[0;34m()\u001b[0m\n\u001b[0;32m----> 1\u001b[0;31m \u001b[0mioloop\u001b[0m\u001b[0;34m.\u001b[0m\u001b[0mrun_until_complete\u001b[0m\u001b[0;34m(\u001b[0m\u001b[0mreq\u001b[0m\u001b[0;34m)\u001b[0m\u001b[0;34m\u001b[0m\u001b[0m\n\u001b[0m",
        "\u001b[0;32m/usr/local/Cellar/python3/3.4.2_1/Frameworks/Python.framework/Versions/3.4/lib/python3.4/asyncio/base_events.py\u001b[0m in \u001b[0;36mrun_until_complete\u001b[0;34m(self, future)\u001b[0m\n\u001b[1;32m    266\u001b[0m             \u001b[0;32mraise\u001b[0m \u001b[0mRuntimeError\u001b[0m\u001b[0;34m(\u001b[0m\u001b[0;34m'Event loop stopped before Future completed.'\u001b[0m\u001b[0;34m)\u001b[0m\u001b[0;34m\u001b[0m\u001b[0m\n\u001b[1;32m    267\u001b[0m \u001b[0;34m\u001b[0m\u001b[0m\n\u001b[0;32m--> 268\u001b[0;31m         \u001b[0;32mreturn\u001b[0m \u001b[0mfuture\u001b[0m\u001b[0;34m.\u001b[0m\u001b[0mresult\u001b[0m\u001b[0;34m(\u001b[0m\u001b[0;34m)\u001b[0m\u001b[0;34m\u001b[0m\u001b[0m\n\u001b[0m\u001b[1;32m    269\u001b[0m \u001b[0;34m\u001b[0m\u001b[0m\n\u001b[1;32m    270\u001b[0m     \u001b[0;32mdef\u001b[0m \u001b[0mstop\u001b[0m\u001b[0;34m(\u001b[0m\u001b[0mself\u001b[0m\u001b[0;34m)\u001b[0m\u001b[0;34m:\u001b[0m\u001b[0;34m\u001b[0m\u001b[0m\n",
        "\u001b[0;32m/usr/local/Cellar/python3/3.4.2_1/Frameworks/Python.framework/Versions/3.4/lib/python3.4/asyncio/futures.py\u001b[0m in \u001b[0;36mresult\u001b[0;34m(self)\u001b[0m\n\u001b[1;32m    275\u001b[0m             \u001b[0mself\u001b[0m\u001b[0;34m.\u001b[0m\u001b[0m_tb_logger\u001b[0m \u001b[0;34m=\u001b[0m \u001b[0;32mNone\u001b[0m\u001b[0;34m\u001b[0m\u001b[0m\n\u001b[1;32m    276\u001b[0m         \u001b[0;32mif\u001b[0m \u001b[0mself\u001b[0m\u001b[0;34m.\u001b[0m\u001b[0m_exception\u001b[0m \u001b[0;32mis\u001b[0m \u001b[0;32mnot\u001b[0m \u001b[0;32mNone\u001b[0m\u001b[0;34m:\u001b[0m\u001b[0;34m\u001b[0m\u001b[0m\n\u001b[0;32m--> 277\u001b[0;31m             \u001b[0;32mraise\u001b[0m \u001b[0mself\u001b[0m\u001b[0;34m.\u001b[0m\u001b[0m_exception\u001b[0m\u001b[0;34m\u001b[0m\u001b[0m\n\u001b[0m\u001b[1;32m    278\u001b[0m         \u001b[0;32mreturn\u001b[0m \u001b[0mself\u001b[0m\u001b[0;34m.\u001b[0m\u001b[0m_result\u001b[0m\u001b[0;34m\u001b[0m\u001b[0m\n\u001b[1;32m    279\u001b[0m \u001b[0;34m\u001b[0m\u001b[0m\n",
        "\u001b[0;32m/usr/local/Cellar/python3/3.4.2_1/Frameworks/Python.framework/Versions/3.4/lib/python3.4/asyncio/tasks.py\u001b[0m in \u001b[0;36m_step\u001b[0;34m(***failed resolving arguments***)\u001b[0m\n\u001b[1;32m    230\u001b[0m         \u001b[0;32mtry\u001b[0m\u001b[0;34m:\u001b[0m\u001b[0;34m\u001b[0m\u001b[0m\n\u001b[1;32m    231\u001b[0m             \u001b[0;32mif\u001b[0m \u001b[0mexc\u001b[0m \u001b[0;32mis\u001b[0m \u001b[0;32mnot\u001b[0m \u001b[0;32mNone\u001b[0m\u001b[0;34m:\u001b[0m\u001b[0;34m\u001b[0m\u001b[0m\n\u001b[0;32m--> 232\u001b[0;31m                 \u001b[0mresult\u001b[0m \u001b[0;34m=\u001b[0m \u001b[0mcoro\u001b[0m\u001b[0;34m.\u001b[0m\u001b[0mthrow\u001b[0m\u001b[0;34m(\u001b[0m\u001b[0mexc\u001b[0m\u001b[0;34m)\u001b[0m\u001b[0;34m\u001b[0m\u001b[0m\n\u001b[0m\u001b[1;32m    233\u001b[0m             \u001b[0;32melif\u001b[0m \u001b[0mvalue\u001b[0m \u001b[0;32mis\u001b[0m \u001b[0;32mnot\u001b[0m \u001b[0;32mNone\u001b[0m\u001b[0;34m:\u001b[0m\u001b[0;34m\u001b[0m\u001b[0m\n\u001b[1;32m    234\u001b[0m                 \u001b[0mresult\u001b[0m \u001b[0;34m=\u001b[0m \u001b[0mcoro\u001b[0m\u001b[0;34m.\u001b[0m\u001b[0msend\u001b[0m\u001b[0;34m(\u001b[0m\u001b[0mvalue\u001b[0m\u001b[0;34m)\u001b[0m\u001b[0;34m\u001b[0m\u001b[0m\n",
        "\u001b[0;32m/Users/chrisseto/.virtualenvs/waterbutler/lib/python3.4/site-packages/aiohttp/client.py\u001b[0m in \u001b[0;36mrequest\u001b[0;34m(method, url, params, data, headers, cookies, files, auth, allow_redirects, max_redirects, encoding, version, compress, chunked, expect100, connector, loop, read_until_eof, request_class, response_class)\u001b[0m\n\u001b[1;32m    110\u001b[0m             \u001b[0mresp\u001b[0m \u001b[0;34m=\u001b[0m \u001b[0mreq\u001b[0m\u001b[0;34m.\u001b[0m\u001b[0msend\u001b[0m\u001b[0;34m(\u001b[0m\u001b[0mconn\u001b[0m\u001b[0;34m.\u001b[0m\u001b[0mwriter\u001b[0m\u001b[0;34m,\u001b[0m \u001b[0mconn\u001b[0m\u001b[0;34m.\u001b[0m\u001b[0mreader\u001b[0m\u001b[0;34m)\u001b[0m\u001b[0;34m\u001b[0m\u001b[0m\n\u001b[1;32m    111\u001b[0m             \u001b[0;32mtry\u001b[0m\u001b[0;34m:\u001b[0m\u001b[0;34m\u001b[0m\u001b[0m\n\u001b[0;32m--> 112\u001b[0;31m                 \u001b[0;32myield\u001b[0m \u001b[0;32mfrom\u001b[0m \u001b[0mresp\u001b[0m\u001b[0;34m.\u001b[0m\u001b[0mstart\u001b[0m\u001b[0;34m(\u001b[0m\u001b[0mconn\u001b[0m\u001b[0;34m,\u001b[0m \u001b[0mread_until_eof\u001b[0m\u001b[0;34m)\u001b[0m\u001b[0;34m\u001b[0m\u001b[0m\n\u001b[0m\u001b[1;32m    113\u001b[0m             \u001b[0;32mexcept\u001b[0m\u001b[0;34m:\u001b[0m\u001b[0;34m\u001b[0m\u001b[0m\n\u001b[1;32m    114\u001b[0m                 \u001b[0mresp\u001b[0m\u001b[0;34m.\u001b[0m\u001b[0mclose\u001b[0m\u001b[0;34m(\u001b[0m\u001b[0;34m)\u001b[0m\u001b[0;34m\u001b[0m\u001b[0m\n",
        "\u001b[0;32m/Users/chrisseto/.virtualenvs/waterbutler/lib/python3.4/site-packages/aiohttp/client.py\u001b[0m in \u001b[0;36mstart\u001b[0;34m(self, connection, read_until_eof)\u001b[0m\n\u001b[1;32m    628\u001b[0m \u001b[0;34m\u001b[0m\u001b[0m\n\u001b[1;32m    629\u001b[0m             \u001b[0;31m# read response\u001b[0m\u001b[0;34m\u001b[0m\u001b[0;34m\u001b[0m\u001b[0m\n\u001b[0;32m--> 630\u001b[0;31m             \u001b[0mself\u001b[0m\u001b[0;34m.\u001b[0m\u001b[0mmessage\u001b[0m \u001b[0;34m=\u001b[0m \u001b[0;32myield\u001b[0m \u001b[0;32mfrom\u001b[0m \u001b[0mhttpstream\u001b[0m\u001b[0;34m.\u001b[0m\u001b[0mread\u001b[0m\u001b[0;34m(\u001b[0m\u001b[0;34m)\u001b[0m\u001b[0;34m\u001b[0m\u001b[0m\n\u001b[0m\u001b[1;32m    631\u001b[0m             \u001b[0;32mif\u001b[0m \u001b[0mself\u001b[0m\u001b[0;34m.\u001b[0m\u001b[0mmessage\u001b[0m\u001b[0;34m.\u001b[0m\u001b[0mcode\u001b[0m \u001b[0;34m!=\u001b[0m \u001b[0;36m100\u001b[0m\u001b[0;34m:\u001b[0m\u001b[0;34m\u001b[0m\u001b[0m\n\u001b[1;32m    632\u001b[0m                 \u001b[0;32mbreak\u001b[0m\u001b[0;34m\u001b[0m\u001b[0m\n",
        "\u001b[0;32m/Users/chrisseto/.virtualenvs/waterbutler/lib/python3.4/site-packages/aiohttp/streams.py\u001b[0m in \u001b[0;36mread\u001b[0;34m(self)\u001b[0m\n\u001b[1;32m    380\u001b[0m         \u001b[0mself\u001b[0m\u001b[0;34m.\u001b[0m\u001b[0m_stream\u001b[0m\u001b[0;34m.\u001b[0m\u001b[0mresume_stream\u001b[0m\u001b[0;34m(\u001b[0m\u001b[0;34m)\u001b[0m\u001b[0;34m\u001b[0m\u001b[0m\n\u001b[1;32m    381\u001b[0m         \u001b[0;32mtry\u001b[0m\u001b[0;34m:\u001b[0m\u001b[0;34m\u001b[0m\u001b[0m\n\u001b[0;32m--> 382\u001b[0;31m             \u001b[0;32mreturn\u001b[0m \u001b[0;34m(\u001b[0m\u001b[0;32myield\u001b[0m \u001b[0;32mfrom\u001b[0m \u001b[0msuper\u001b[0m\u001b[0;34m(\u001b[0m\u001b[0;34m)\u001b[0m\u001b[0;34m.\u001b[0m\u001b[0mread\u001b[0m\u001b[0;34m(\u001b[0m\u001b[0;34m)\u001b[0m\u001b[0;34m)\u001b[0m\u001b[0;34m\u001b[0m\u001b[0m\n\u001b[0m\u001b[1;32m    383\u001b[0m         \u001b[0;32mfinally\u001b[0m\u001b[0;34m:\u001b[0m\u001b[0;34m\u001b[0m\u001b[0m\n\u001b[1;32m    384\u001b[0m             \u001b[0mself\u001b[0m\u001b[0;34m.\u001b[0m\u001b[0m_stream\u001b[0m\u001b[0;34m.\u001b[0m\u001b[0mpause_stream\u001b[0m\u001b[0;34m(\u001b[0m\u001b[0;34m)\u001b[0m\u001b[0;34m\u001b[0m\u001b[0m\n",
        "\u001b[0;32m/Users/chrisseto/.virtualenvs/waterbutler/lib/python3.4/site-packages/aiohttp/streams.py\u001b[0m in \u001b[0;36mread\u001b[0;34m(self)\u001b[0m\n\u001b[1;32m    355\u001b[0m             \u001b[0;32massert\u001b[0m \u001b[0;32mnot\u001b[0m \u001b[0mself\u001b[0m\u001b[0;34m.\u001b[0m\u001b[0m_waiter\u001b[0m\u001b[0;34m\u001b[0m\u001b[0m\n\u001b[1;32m    356\u001b[0m             \u001b[0mself\u001b[0m\u001b[0;34m.\u001b[0m\u001b[0m_waiter\u001b[0m \u001b[0;34m=\u001b[0m \u001b[0masyncio\u001b[0m\u001b[0;34m.\u001b[0m\u001b[0mFuture\u001b[0m\u001b[0;34m(\u001b[0m\u001b[0mloop\u001b[0m\u001b[0;34m=\u001b[0m\u001b[0mself\u001b[0m\u001b[0;34m.\u001b[0m\u001b[0m_loop\u001b[0m\u001b[0;34m)\u001b[0m\u001b[0;34m\u001b[0m\u001b[0m\n\u001b[0;32m--> 357\u001b[0;31m             \u001b[0;32myield\u001b[0m \u001b[0;32mfrom\u001b[0m \u001b[0mself\u001b[0m\u001b[0;34m.\u001b[0m\u001b[0m_waiter\u001b[0m\u001b[0;34m\u001b[0m\u001b[0m\n\u001b[0m\u001b[1;32m    358\u001b[0m \u001b[0;34m\u001b[0m\u001b[0m\n\u001b[1;32m    359\u001b[0m         \u001b[0;32mif\u001b[0m \u001b[0mself\u001b[0m\u001b[0;34m.\u001b[0m\u001b[0m_buffer\u001b[0m\u001b[0;34m:\u001b[0m\u001b[0;34m\u001b[0m\u001b[0m\n",
        "\u001b[0;32m/usr/local/Cellar/python3/3.4.2_1/Frameworks/Python.framework/Versions/3.4/lib/python3.4/asyncio/futures.py\u001b[0m in \u001b[0;36m__iter__\u001b[0;34m(self)\u001b[0m\n\u001b[1;32m    386\u001b[0m         \u001b[0;32mif\u001b[0m \u001b[0;32mnot\u001b[0m \u001b[0mself\u001b[0m\u001b[0;34m.\u001b[0m\u001b[0mdone\u001b[0m\u001b[0;34m(\u001b[0m\u001b[0;34m)\u001b[0m\u001b[0;34m:\u001b[0m\u001b[0;34m\u001b[0m\u001b[0m\n\u001b[1;32m    387\u001b[0m             \u001b[0mself\u001b[0m\u001b[0;34m.\u001b[0m\u001b[0m_blocking\u001b[0m \u001b[0;34m=\u001b[0m \u001b[0;32mTrue\u001b[0m\u001b[0;34m\u001b[0m\u001b[0m\n\u001b[0;32m--> 388\u001b[0;31m             \u001b[0;32myield\u001b[0m \u001b[0mself\u001b[0m  \u001b[0;31m# This tells Task to wait for completion.\u001b[0m\u001b[0;34m\u001b[0m\u001b[0m\n\u001b[0m\u001b[1;32m    389\u001b[0m         \u001b[0;32massert\u001b[0m \u001b[0mself\u001b[0m\u001b[0;34m.\u001b[0m\u001b[0mdone\u001b[0m\u001b[0;34m(\u001b[0m\u001b[0;34m)\u001b[0m\u001b[0;34m,\u001b[0m \u001b[0;34m\"yield from wasn't used with future\"\u001b[0m\u001b[0;34m\u001b[0m\u001b[0m\n\u001b[1;32m    390\u001b[0m         \u001b[0;32mreturn\u001b[0m \u001b[0mself\u001b[0m\u001b[0;34m.\u001b[0m\u001b[0mresult\u001b[0m\u001b[0;34m(\u001b[0m\u001b[0;34m)\u001b[0m  \u001b[0;31m# May raise too.\u001b[0m\u001b[0;34m\u001b[0m\u001b[0m\n",
        "\u001b[0;32m/usr/local/Cellar/python3/3.4.2_1/Frameworks/Python.framework/Versions/3.4/lib/python3.4/asyncio/tasks.py\u001b[0m in \u001b[0;36m_wakeup\u001b[0;34m(self, future)\u001b[0m\n\u001b[1;32m    283\u001b[0m     \u001b[0;32mdef\u001b[0m \u001b[0m_wakeup\u001b[0m\u001b[0;34m(\u001b[0m\u001b[0mself\u001b[0m\u001b[0;34m,\u001b[0m \u001b[0mfuture\u001b[0m\u001b[0;34m)\u001b[0m\u001b[0;34m:\u001b[0m\u001b[0;34m\u001b[0m\u001b[0m\n\u001b[1;32m    284\u001b[0m         \u001b[0;32mtry\u001b[0m\u001b[0;34m:\u001b[0m\u001b[0;34m\u001b[0m\u001b[0m\n\u001b[0;32m--> 285\u001b[0;31m             \u001b[0mvalue\u001b[0m \u001b[0;34m=\u001b[0m \u001b[0mfuture\u001b[0m\u001b[0;34m.\u001b[0m\u001b[0mresult\u001b[0m\u001b[0;34m(\u001b[0m\u001b[0;34m)\u001b[0m\u001b[0;34m\u001b[0m\u001b[0m\n\u001b[0m\u001b[1;32m    286\u001b[0m         \u001b[0;32mexcept\u001b[0m \u001b[0mException\u001b[0m \u001b[0;32mas\u001b[0m \u001b[0mexc\u001b[0m\u001b[0;34m:\u001b[0m\u001b[0;34m\u001b[0m\u001b[0m\n\u001b[1;32m    287\u001b[0m             \u001b[0;31m# This may also be a cancellation.\u001b[0m\u001b[0;34m\u001b[0m\u001b[0;34m\u001b[0m\u001b[0m\n",
        "\u001b[0;32m/usr/local/Cellar/python3/3.4.2_1/Frameworks/Python.framework/Versions/3.4/lib/python3.4/asyncio/futures.py\u001b[0m in \u001b[0;36mresult\u001b[0;34m(self)\u001b[0m\n\u001b[1;32m    275\u001b[0m             \u001b[0mself\u001b[0m\u001b[0;34m.\u001b[0m\u001b[0m_tb_logger\u001b[0m \u001b[0;34m=\u001b[0m \u001b[0;32mNone\u001b[0m\u001b[0;34m\u001b[0m\u001b[0m\n\u001b[1;32m    276\u001b[0m         \u001b[0;32mif\u001b[0m \u001b[0mself\u001b[0m\u001b[0;34m.\u001b[0m\u001b[0m_exception\u001b[0m \u001b[0;32mis\u001b[0m \u001b[0;32mnot\u001b[0m \u001b[0;32mNone\u001b[0m\u001b[0;34m:\u001b[0m\u001b[0;34m\u001b[0m\u001b[0m\n\u001b[0;32m--> 277\u001b[0;31m             \u001b[0;32mraise\u001b[0m \u001b[0mself\u001b[0m\u001b[0;34m.\u001b[0m\u001b[0m_exception\u001b[0m\u001b[0;34m\u001b[0m\u001b[0m\n\u001b[0m\u001b[1;32m    278\u001b[0m         \u001b[0;32mreturn\u001b[0m \u001b[0mself\u001b[0m\u001b[0;34m.\u001b[0m\u001b[0m_result\u001b[0m\u001b[0;34m\u001b[0m\u001b[0m\n\u001b[1;32m    279\u001b[0m \u001b[0;34m\u001b[0m\u001b[0m\n",
        "\u001b[0;32m/Users/chrisseto/.virtualenvs/waterbutler/lib/python3.4/site-packages/aiohttp/client.py\u001b[0m in \u001b[0;36mwrite_bytes\u001b[0;34m(self, request, reader)\u001b[0m\n\u001b[1;32m    520\u001b[0m                 if (asyncio.iscoroutine(ret) or\n\u001b[1;32m    521\u001b[0m                         isinstance(ret, asyncio.Future)):\n\u001b[0;32m--> 522\u001b[0;31m                     \u001b[0;32myield\u001b[0m \u001b[0;32mfrom\u001b[0m \u001b[0mret\u001b[0m\u001b[0;34m\u001b[0m\u001b[0m\n\u001b[0m\u001b[1;32m    523\u001b[0m             \u001b[0;32mexcept\u001b[0m \u001b[0mException\u001b[0m \u001b[0;32mas\u001b[0m \u001b[0mexc\u001b[0m\u001b[0;34m:\u001b[0m\u001b[0;34m\u001b[0m\u001b[0m\n\u001b[1;32m    524\u001b[0m                 reader.set_exception(\n",
        "\u001b[0;32m/usr/local/Cellar/python3/3.4.2_1/Frameworks/Python.framework/Versions/3.4/lib/python3.4/asyncio/streams.py\u001b[0m in \u001b[0;36mdrain\u001b[0;34m(self)\u001b[0m\n\u001b[1;32m    296\u001b[0m             \u001b[0mexc\u001b[0m \u001b[0;34m=\u001b[0m \u001b[0mself\u001b[0m\u001b[0;34m.\u001b[0m\u001b[0m_reader\u001b[0m\u001b[0;34m.\u001b[0m\u001b[0mexception\u001b[0m\u001b[0;34m(\u001b[0m\u001b[0;34m)\u001b[0m\u001b[0;34m\u001b[0m\u001b[0m\n\u001b[1;32m    297\u001b[0m             \u001b[0;32mif\u001b[0m \u001b[0mexc\u001b[0m \u001b[0;32mis\u001b[0m \u001b[0;32mnot\u001b[0m \u001b[0;32mNone\u001b[0m\u001b[0;34m:\u001b[0m\u001b[0;34m\u001b[0m\u001b[0m\n\u001b[0;32m--> 298\u001b[0;31m                 \u001b[0;32mraise\u001b[0m \u001b[0mexc\u001b[0m\u001b[0;34m\u001b[0m\u001b[0m\n\u001b[0m\u001b[1;32m    299\u001b[0m         \u001b[0;32myield\u001b[0m \u001b[0;32mfrom\u001b[0m \u001b[0mself\u001b[0m\u001b[0;34m.\u001b[0m\u001b[0m_protocol\u001b[0m\u001b[0;34m.\u001b[0m\u001b[0m_drain_helper\u001b[0m\u001b[0;34m(\u001b[0m\u001b[0;34m)\u001b[0m\u001b[0;34m\u001b[0m\u001b[0m\n\u001b[1;32m    300\u001b[0m \u001b[0;34m\u001b[0m\u001b[0m\n",
        "\u001b[0;32m/usr/local/Cellar/python3/3.4.2_1/Frameworks/Python.framework/Versions/3.4/lib/python3.4/asyncio/selector_events.py\u001b[0m in \u001b[0;36mwrite\u001b[0;34m(self, data)\u001b[0m\n\u001b[1;32m    618\u001b[0m             \u001b[0;31m# Optimization: try to send now.\u001b[0m\u001b[0;34m\u001b[0m\u001b[0;34m\u001b[0m\u001b[0m\n\u001b[1;32m    619\u001b[0m             \u001b[0;32mtry\u001b[0m\u001b[0;34m:\u001b[0m\u001b[0;34m\u001b[0m\u001b[0m\n\u001b[0;32m--> 620\u001b[0;31m                 \u001b[0mn\u001b[0m \u001b[0;34m=\u001b[0m \u001b[0mself\u001b[0m\u001b[0;34m.\u001b[0m\u001b[0m_sock\u001b[0m\u001b[0;34m.\u001b[0m\u001b[0msend\u001b[0m\u001b[0;34m(\u001b[0m\u001b[0mdata\u001b[0m\u001b[0;34m)\u001b[0m\u001b[0;34m\u001b[0m\u001b[0m\n\u001b[0m\u001b[1;32m    621\u001b[0m             \u001b[0;32mexcept\u001b[0m \u001b[0;34m(\u001b[0m\u001b[0mBlockingIOError\u001b[0m\u001b[0;34m,\u001b[0m \u001b[0mInterruptedError\u001b[0m\u001b[0;34m)\u001b[0m\u001b[0;34m:\u001b[0m\u001b[0;34m\u001b[0m\u001b[0m\n\u001b[1;32m    622\u001b[0m                 \u001b[0;32mpass\u001b[0m\u001b[0;34m\u001b[0m\u001b[0m\n",
        "\u001b[0;32m/Users/chrisseto/.virtualenvs/waterbutler/lib/python3.4/site-packages/httpretty/core.py\u001b[0m in \u001b[0;36msend\u001b[0;34m(self, *args, **kwargs)\u001b[0m\n\u001b[1;32m    417\u001b[0m \u001b[0;34m\u001b[0m\u001b[0m\n\u001b[1;32m    418\u001b[0m         \u001b[0;32mdef\u001b[0m \u001b[0msend\u001b[0m\u001b[0;34m(\u001b[0m\u001b[0mself\u001b[0m\u001b[0;34m,\u001b[0m \u001b[0;34m*\u001b[0m\u001b[0margs\u001b[0m\u001b[0;34m,\u001b[0m \u001b[0;34m**\u001b[0m\u001b[0mkwargs\u001b[0m\u001b[0;34m)\u001b[0m\u001b[0;34m:\u001b[0m\u001b[0;34m\u001b[0m\u001b[0m\n\u001b[0;32m--> 419\u001b[0;31m             \u001b[0;32mreturn\u001b[0m \u001b[0mself\u001b[0m\u001b[0;34m.\u001b[0m\u001b[0mdebug\u001b[0m\u001b[0;34m(\u001b[0m\u001b[0mself\u001b[0m\u001b[0;34m.\u001b[0m\u001b[0mtruesock\u001b[0m\u001b[0;34m.\u001b[0m\u001b[0msend\u001b[0m\u001b[0;34m,\u001b[0m \u001b[0;34m*\u001b[0m\u001b[0margs\u001b[0m\u001b[0;34m,\u001b[0m \u001b[0;34m**\u001b[0m\u001b[0mkwargs\u001b[0m\u001b[0;34m)\u001b[0m\u001b[0;34m\u001b[0m\u001b[0m\n\u001b[0m\u001b[1;32m    420\u001b[0m \u001b[0;34m\u001b[0m\u001b[0m\n\u001b[1;32m    421\u001b[0m         \u001b[0;32mdef\u001b[0m \u001b[0msendto\u001b[0m\u001b[0;34m(\u001b[0m\u001b[0mself\u001b[0m\u001b[0;34m,\u001b[0m \u001b[0;34m*\u001b[0m\u001b[0margs\u001b[0m\u001b[0;34m,\u001b[0m \u001b[0;34m**\u001b[0m\u001b[0mkwargs\u001b[0m\u001b[0;34m)\u001b[0m\u001b[0;34m:\u001b[0m\u001b[0;34m\u001b[0m\u001b[0m\n",
        "\u001b[0;32m/Users/chrisseto/.virtualenvs/waterbutler/lib/python3.4/site-packages/httpretty/core.py\u001b[0m in \u001b[0;36mdebug\u001b[0;34m(self, func, *a, **kw)\u001b[0m\n\u001b[1;32m    410\u001b[0m                     \u001b[0;34m\"\"\u001b[0m\u001b[0;34m.\u001b[0m\u001b[0mjoin\u001b[0m\u001b[0;34m(\u001b[0m\u001b[0mdecode_utf8\u001b[0m\u001b[0;34m(\u001b[0m\u001b[0mlines\u001b[0m\u001b[0;34m)\u001b[0m\u001b[0;34m)\u001b[0m\u001b[0;34m,\u001b[0m\u001b[0;34m\u001b[0m\u001b[0m\n\u001b[1;32m    411\u001b[0m                 ]\n\u001b[0;32m--> 412\u001b[0;31m                 \u001b[0;32mraise\u001b[0m \u001b[0mRuntimeError\u001b[0m\u001b[0;34m(\u001b[0m\u001b[0;34m\"\\n\"\u001b[0m\u001b[0;34m.\u001b[0m\u001b[0mjoin\u001b[0m\u001b[0;34m(\u001b[0m\u001b[0mmessage\u001b[0m\u001b[0;34m)\u001b[0m\u001b[0;34m)\u001b[0m\u001b[0;34m\u001b[0m\u001b[0m\n\u001b[0m\u001b[1;32m    413\u001b[0m             \u001b[0;32mreturn\u001b[0m \u001b[0mfunc\u001b[0m\u001b[0;34m(\u001b[0m\u001b[0;34m*\u001b[0m\u001b[0ma\u001b[0m\u001b[0;34m,\u001b[0m \u001b[0;34m**\u001b[0m\u001b[0mkw\u001b[0m\u001b[0;34m)\u001b[0m\u001b[0;34m\u001b[0m\u001b[0m\n\u001b[1;32m    414\u001b[0m \u001b[0;34m\u001b[0m\u001b[0m\n",
        "\u001b[0;31mRuntimeError\u001b[0m: HTTPretty intercepted and unexpected socket method call.\nPlease open an issue at 'https://github.com/gabrielfalcao/HTTPretty/issues'\nAnd paste the following traceback:\n\n[b'  File \"<string>\", line 1, in <module>\\n', b'  File \"/Users/chrisseto/.virtualenvs/waterbutler/lib/python3.4/site-packages/IPython/kernel/zmq/kernelapp.py\", line 469, in main\\n    app.start()\\n', b'  File \"/Users/chrisseto/.virtualenvs/waterbutler/lib/python3.4/site-packages/IPython/kernel/zmq/kernelapp.py\", line 459, in start\\n    ioloop.IOLoop.instance().start()\\n', b'  File \"/Users/chrisseto/.virtualenvs/waterbutler/lib/python3.4/site-packages/zmq/eventloop/ioloop.py\", line 151, in start\\n    super(ZMQIOLoop, self).start()\\n', b'  File \"/Users/chrisseto/.virtualenvs/waterbutler/lib/python3.4/site-packages/tornado/ioloop.py\", line 837, in start\\n    handler_func(fd_obj, events)\\n', b'  File \"/Users/chrisseto/.virtualenvs/waterbutler/lib/python3.4/site-packages/tornado/stack_context.py\", line 275, in null_wrapper\\n    return fn(*args, **kwargs)\\n', b'  File \"/Users/chrisseto/.virtualenvs/waterbutler/lib/python3.4/site-packages/zmq/eventloop/zmqstream.py\", line 433, in _handle_events\\n    self._handle_recv()\\n', b'  File \"/Users/chrisseto/.virtualenvs/waterbutler/lib/python3.4/site-packages/zmq/eventloop/zmqstream.py\", line 465, in _handle_recv\\n    self._run_callback(callback, msg)\\n', b'  File \"/Users/chrisseto/.virtualenvs/waterbutler/lib/python3.4/site-packages/zmq/eventloop/zmqstream.py\", line 407, in _run_callback\\n    callback(*args, **kwargs)\\n', b'  File \"/Users/chrisseto/.virtualenvs/waterbutler/lib/python3.4/site-packages/tornado/stack_context.py\", line 275, in null_wrapper\\n    return fn(*args, **kwargs)\\n', b'  File \"/Users/chrisseto/.virtualenvs/waterbutler/lib/python3.4/site-packages/IPython/kernel/zmq/ipkernel.py\", line 281, in dispatcher\\n    return self.dispatch_shell(stream, msg)\\n', b'  File \"/Users/chrisseto/.virtualenvs/waterbutler/lib/python3.4/site-packages/IPython/kernel/zmq/ipkernel.py\", line 245, in dispatch_shell\\n    handler(stream, idents, msg)\\n', b'  File \"/Users/chrisseto/.virtualenvs/waterbutler/lib/python3.4/site-packages/IPython/kernel/zmq/ipkernel.py\", line 389, in execute_request\\n    shell.run_cell(code, store_history=store_history, silent=silent)\\n', b'  File \"/Users/chrisseto/.virtualenvs/waterbutler/lib/python3.4/site-packages/IPython/core/interactiveshell.py\", line 2741, in run_cell\\n    interactivity=interactivity, compiler=compiler)\\n', b'  File \"/Users/chrisseto/.virtualenvs/waterbutler/lib/python3.4/site-packages/IPython/core/interactiveshell.py\", line 2833, in run_ast_nodes\\n    if self.run_code(code):\\n', b'  File \"/Users/chrisseto/.virtualenvs/waterbutler/lib/python3.4/site-packages/IPython/core/interactiveshell.py\", line 2883, in run_code\\n    exec(code_obj, self.user_global_ns, self.user_ns)\\n', b'  File \"<ipython-input-10-5a6c4d2fb4a2>\", line 1, in <module>\\n    ioloop.run_until_complete(req)\\n', b'  File \"/usr/local/Cellar/python3/3.4.2_1/Frameworks/Python.framework/Versions/3.4/lib/python3.4/asyncio/base_events.py\", line 263, in run_until_complete\\n    self.run_forever()\\n', b'  File \"/usr/local/Cellar/python3/3.4.2_1/Frameworks/Python.framework/Versions/3.4/lib/python3.4/asyncio/base_events.py\", line 236, in run_forever\\n    self._run_once()\\n', b'  File \"/usr/local/Cellar/python3/3.4.2_1/Frameworks/Python.framework/Versions/3.4/lib/python3.4/asyncio/base_events.py\", line 1048, in _run_once\\n    handle._run()\\n', b'  File \"/usr/local/Cellar/python3/3.4.2_1/Frameworks/Python.framework/Versions/3.4/lib/python3.4/asyncio/events.py\", line 119, in _run\\n    self._callback(*self._args)\\n', b'  File \"/usr/local/Cellar/python3/3.4.2_1/Frameworks/Python.framework/Versions/3.4/lib/python3.4/asyncio/tasks.py\", line 290, in _wakeup\\n    self._step(value, None)\\n', b'  File \"/usr/local/Cellar/python3/3.4.2_1/Frameworks/Python.framework/Versions/3.4/lib/python3.4/asyncio/tasks.py\", line 236, in _step\\n    result = next(coro)\\n', b'  File \"/Users/chrisseto/.virtualenvs/waterbutler/lib/python3.4/site-packages/aiohttp/client.py\", line 110, in request\\n    resp = req.send(conn.writer, conn.reader)\\n', b'  File \"/Users/chrisseto/.virtualenvs/waterbutler/lib/python3.4/site-packages/aiohttp/client.py\", line 543, in send\\n    request.send_headers()\\n', b'  File \"/Users/chrisseto/.virtualenvs/waterbutler/lib/python3.4/site-packages/aiohttp/protocol.py\", line 662, in send_headers\\n    self.transport.write(hdrs)\\n', b'  File \"/usr/local/Cellar/python3/3.4.2_1/Frameworks/Python.framework/Versions/3.4/lib/python3.4/asyncio/streams.py\", line 269, in write\\n    self._transport.write(data)\\n', b'  File \"/usr/local/Cellar/python3/3.4.2_1/Frameworks/Python.framework/Versions/3.4/lib/python3.4/asyncio/selector_events.py\", line 620, in write\\n    n = self._sock.send(data)\\n', b'  File \"/Users/chrisseto/.virtualenvs/waterbutler/lib/python3.4/site-packages/httpretty/core.py\", line 419, in send\\n    return self.debug(self.truesock.send, *args, **kwargs)\\n', b'  File \"/Users/chrisseto/.virtualenvs/waterbutler/lib/python3.4/site-packages/httpretty/core.py\", line 403, in debug\\n    lines = list(map(utf8, traceback.format_stack(frame)))\\n']"
       ]
      },
      {
       "output_type": "stream",
       "stream": "stdout",
       "text": [
        "> \u001b[0;32m/Users/chrisseto/.virtualenvs/waterbutler/lib/python3.4/site-packages/httpretty/core.py\u001b[0m(412)\u001b[0;36mdebug\u001b[0;34m()\u001b[0m\n",
        "\u001b[0;32m    411 \u001b[0;31m                ]\n",
        "\u001b[0m\u001b[0;32m--> 412 \u001b[0;31m                \u001b[0;32mraise\u001b[0m \u001b[0mRuntimeError\u001b[0m\u001b[0;34m(\u001b[0m\u001b[0;34m\"\\n\"\u001b[0m\u001b[0;34m.\u001b[0m\u001b[0mjoin\u001b[0m\u001b[0;34m(\u001b[0m\u001b[0mmessage\u001b[0m\u001b[0;34m)\u001b[0m\u001b[0;34m)\u001b[0m\u001b[0;34m\u001b[0m\u001b[0m\n",
        "\u001b[0m\u001b[0;32m    413 \u001b[0;31m            \u001b[0;32mreturn\u001b[0m \u001b[0mfunc\u001b[0m\u001b[0;34m(\u001b[0m\u001b[0;34m*\u001b[0m\u001b[0ma\u001b[0m\u001b[0;34m,\u001b[0m \u001b[0;34m**\u001b[0m\u001b[0mkw\u001b[0m\u001b[0;34m)\u001b[0m\u001b[0;34m\u001b[0m\u001b[0m\n",
        "\u001b[0m\n"
       ]
      },
      {
       "name": "stdout",
       "output_type": "stream",
       "stream": "stdout",
       "text": [
        "ipdb> w\n"
       ]
      },
      {
       "output_type": "stream",
       "stream": "stdout",
       "text": [
        "  \u001b[0;32m/Users/chrisseto/.virtualenvs/waterbutler/lib/python3.4/site-packages/aiohttp/client.py\u001b[0m(120)\u001b[0;36mrequest\u001b[0;34m()\u001b[0m\n",
        "\u001b[1;32m    118 \u001b[0m            \u001b[0;32mraise\u001b[0m \u001b[0maiohttp\u001b[0m\u001b[0;34m.\u001b[0m\u001b[0mClientConnectionError\u001b[0m\u001b[0;34m(\u001b[0m\u001b[0mexc\u001b[0m\u001b[0;34m)\u001b[0m\u001b[0;34m\u001b[0m\u001b[0m\n",
        "\u001b[1;32m    119 \u001b[0m        \u001b[0;32mexcept\u001b[0m \u001b[0mOSError\u001b[0m \u001b[0;32mas\u001b[0m \u001b[0mexc\u001b[0m\u001b[0;34m:\u001b[0m\u001b[0;34m\u001b[0m\u001b[0m\n",
        "\u001b[0;32m--> 120 \u001b[0;31m            \u001b[0;32mraise\u001b[0m \u001b[0maiohttp\u001b[0m\u001b[0;34m.\u001b[0m\u001b[0mOsConnectionError\u001b[0m\u001b[0;34m(\u001b[0m\u001b[0mexc\u001b[0m\u001b[0;34m)\u001b[0m\u001b[0;34m\u001b[0m\u001b[0m\n",
        "\u001b[0m\u001b[1;32m    121 \u001b[0m\u001b[0;34m\u001b[0m\u001b[0m\n",
        "\u001b[1;32m    122 \u001b[0m        \u001b[0;31m# redirects\u001b[0m\u001b[0;34m\u001b[0m\u001b[0;34m\u001b[0m\u001b[0m\n",
        "\n",
        "  \u001b[0;32m/Users/chrisseto/.virtualenvs/waterbutler/lib/python3.4/site-packages/aiohttp/client.py\u001b[0m(551)\u001b[0;36msend\u001b[0;34m()\u001b[0m\n",
        "\u001b[1;32m    549 \u001b[0m            \u001b[0mself\u001b[0m\u001b[0;34m.\u001b[0m\u001b[0mmethod\u001b[0m\u001b[0;34m,\u001b[0m \u001b[0mself\u001b[0m\u001b[0;34m.\u001b[0m\u001b[0murl\u001b[0m\u001b[0;34m,\u001b[0m \u001b[0mself\u001b[0m\u001b[0;34m.\u001b[0m\u001b[0mhost\u001b[0m\u001b[0;34m,\u001b[0m\u001b[0;34m\u001b[0m\u001b[0m\n",
        "\u001b[1;32m    550 \u001b[0m            writer=self._writer, continue100=self._continue)\n",
        "\u001b[0;32m--> 551 \u001b[0;31m        \u001b[0;32mreturn\u001b[0m \u001b[0mself\u001b[0m\u001b[0;34m.\u001b[0m\u001b[0mresponse\u001b[0m\u001b[0;34m\u001b[0m\u001b[0m\n",
        "\u001b[0m\u001b[1;32m    552 \u001b[0m\u001b[0;34m\u001b[0m\u001b[0m\n",
        "\u001b[1;32m    553 \u001b[0m    \u001b[0;34m@\u001b[0m\u001b[0masyncio\u001b[0m\u001b[0;34m.\u001b[0m\u001b[0mcoroutine\u001b[0m\u001b[0;34m\u001b[0m\u001b[0m\n",
        "\n",
        "  \u001b[0;32m/Users/chrisseto/.virtualenvs/waterbutler/lib/python3.4/site-packages/aiohttp/protocol.py\u001b[0m(662)\u001b[0;36msend_headers\u001b[0;34m()\u001b[0m\n",
        "\u001b[1;32m    660 \u001b[0m\u001b[0;34m\u001b[0m\u001b[0m\n",
        "\u001b[1;32m    661 \u001b[0m        \u001b[0mself\u001b[0m\u001b[0;34m.\u001b[0m\u001b[0moutput_length\u001b[0m \u001b[0;34m+=\u001b[0m \u001b[0mlen\u001b[0m\u001b[0;34m(\u001b[0m\u001b[0mhdrs\u001b[0m\u001b[0;34m)\u001b[0m\u001b[0;34m\u001b[0m\u001b[0m\n",
        "\u001b[0;32m--> 662 \u001b[0;31m        \u001b[0mself\u001b[0m\u001b[0;34m.\u001b[0m\u001b[0mtransport\u001b[0m\u001b[0;34m.\u001b[0m\u001b[0mwrite\u001b[0m\u001b[0;34m(\u001b[0m\u001b[0mhdrs\u001b[0m\u001b[0;34m)\u001b[0m\u001b[0;34m\u001b[0m\u001b[0m\n",
        "\u001b[0m\u001b[1;32m    663 \u001b[0m\u001b[0;34m\u001b[0m\u001b[0m\n",
        "\u001b[1;32m    664 \u001b[0m    \u001b[0;32mdef\u001b[0m \u001b[0m_add_default_headers\u001b[0m\u001b[0;34m(\u001b[0m\u001b[0mself\u001b[0m\u001b[0;34m)\u001b[0m\u001b[0;34m:\u001b[0m\u001b[0;34m\u001b[0m\u001b[0m\n",
        "\n",
        "  \u001b[0;32m/usr/local/Cellar/python3/3.4.2_1/Frameworks/Python.framework/Versions/3.4/lib/python3.4/asyncio/streams.py\u001b[0m(269)\u001b[0;36mwrite\u001b[0;34m()\u001b[0m\n",
        "\u001b[1;32m    267 \u001b[0m\u001b[0;34m\u001b[0m\u001b[0m\n",
        "\u001b[1;32m    268 \u001b[0m    \u001b[0;32mdef\u001b[0m \u001b[0mwrite\u001b[0m\u001b[0;34m(\u001b[0m\u001b[0mself\u001b[0m\u001b[0;34m,\u001b[0m \u001b[0mdata\u001b[0m\u001b[0;34m)\u001b[0m\u001b[0;34m:\u001b[0m\u001b[0;34m\u001b[0m\u001b[0m\n",
        "\u001b[0;32m--> 269 \u001b[0;31m        \u001b[0mself\u001b[0m\u001b[0;34m.\u001b[0m\u001b[0m_transport\u001b[0m\u001b[0;34m.\u001b[0m\u001b[0mwrite\u001b[0m\u001b[0;34m(\u001b[0m\u001b[0mdata\u001b[0m\u001b[0;34m)\u001b[0m\u001b[0;34m\u001b[0m\u001b[0m\n",
        "\u001b[0m\u001b[1;32m    270 \u001b[0m\u001b[0;34m\u001b[0m\u001b[0m\n",
        "\u001b[1;32m    271 \u001b[0m    \u001b[0;32mdef\u001b[0m \u001b[0mwritelines\u001b[0m\u001b[0;34m(\u001b[0m\u001b[0mself\u001b[0m\u001b[0;34m,\u001b[0m \u001b[0mdata\u001b[0m\u001b[0;34m)\u001b[0m\u001b[0;34m:\u001b[0m\u001b[0;34m\u001b[0m\u001b[0m\n",
        "\n",
        "  \u001b[0;32m/usr/local/Cellar/python3/3.4.2_1/Frameworks/Python.framework/Versions/3.4/lib/python3.4/asyncio/selector_events.py\u001b[0m(625)\u001b[0;36mwrite\u001b[0;34m()\u001b[0m\n",
        "\u001b[1;32m    623 \u001b[0m            \u001b[0;32mexcept\u001b[0m \u001b[0mException\u001b[0m \u001b[0;32mas\u001b[0m \u001b[0mexc\u001b[0m\u001b[0;34m:\u001b[0m\u001b[0;34m\u001b[0m\u001b[0m\n",
        "\u001b[1;32m    624 \u001b[0m                \u001b[0mself\u001b[0m\u001b[0;34m.\u001b[0m\u001b[0m_fatal_error\u001b[0m\u001b[0;34m(\u001b[0m\u001b[0mexc\u001b[0m\u001b[0;34m,\u001b[0m \u001b[0;34m'Fatal write error on socket transport'\u001b[0m\u001b[0;34m)\u001b[0m\u001b[0;34m\u001b[0m\u001b[0m\n",
        "\u001b[0;32m--> 625 \u001b[0;31m                \u001b[0;32mreturn\u001b[0m\u001b[0;34m\u001b[0m\u001b[0m\n",
        "\u001b[0m\u001b[1;32m    626 \u001b[0m            \u001b[0;32melse\u001b[0m\u001b[0;34m:\u001b[0m\u001b[0;34m\u001b[0m\u001b[0m\n",
        "\u001b[1;32m    627 \u001b[0m                \u001b[0mdata\u001b[0m \u001b[0;34m=\u001b[0m \u001b[0mdata\u001b[0m\u001b[0;34m[\u001b[0m\u001b[0mn\u001b[0m\u001b[0;34m:\u001b[0m\u001b[0;34m]\u001b[0m\u001b[0;34m\u001b[0m\u001b[0m\n",
        "\n",
        "  \u001b[0;32m/Users/chrisseto/.virtualenvs/waterbutler/lib/python3.4/site-packages/httpretty/core.py\u001b[0m(419)\u001b[0;36msend\u001b[0;34m()\u001b[0m\n",
        "\u001b[1;32m    417 \u001b[0m\u001b[0;34m\u001b[0m\u001b[0m\n",
        "\u001b[1;32m    418 \u001b[0m        \u001b[0;32mdef\u001b[0m \u001b[0msend\u001b[0m\u001b[0;34m(\u001b[0m\u001b[0mself\u001b[0m\u001b[0;34m,\u001b[0m \u001b[0;34m*\u001b[0m\u001b[0margs\u001b[0m\u001b[0;34m,\u001b[0m \u001b[0;34m**\u001b[0m\u001b[0mkwargs\u001b[0m\u001b[0;34m)\u001b[0m\u001b[0;34m:\u001b[0m\u001b[0;34m\u001b[0m\u001b[0m\n",
        "\u001b[0;32m--> 419 \u001b[0;31m            \u001b[0;32mreturn\u001b[0m \u001b[0mself\u001b[0m\u001b[0;34m.\u001b[0m\u001b[0mdebug\u001b[0m\u001b[0;34m(\u001b[0m\u001b[0mself\u001b[0m\u001b[0;34m.\u001b[0m\u001b[0mtruesock\u001b[0m\u001b[0;34m.\u001b[0m\u001b[0msend\u001b[0m\u001b[0;34m,\u001b[0m \u001b[0;34m*\u001b[0m\u001b[0margs\u001b[0m\u001b[0;34m,\u001b[0m \u001b[0;34m**\u001b[0m\u001b[0mkwargs\u001b[0m\u001b[0;34m)\u001b[0m\u001b[0;34m\u001b[0m\u001b[0m\n",
        "\u001b[0m\u001b[1;32m    420 \u001b[0m\u001b[0;34m\u001b[0m\u001b[0m\n",
        "\u001b[1;32m    421 \u001b[0m        \u001b[0;32mdef\u001b[0m \u001b[0msendto\u001b[0m\u001b[0;34m(\u001b[0m\u001b[0mself\u001b[0m\u001b[0;34m,\u001b[0m \u001b[0;34m*\u001b[0m\u001b[0margs\u001b[0m\u001b[0;34m,\u001b[0m \u001b[0;34m**\u001b[0m\u001b[0mkwargs\u001b[0m\u001b[0;34m)\u001b[0m\u001b[0;34m:\u001b[0m\u001b[0;34m\u001b[0m\u001b[0m\n",
        "\n",
        "> \u001b[0;32m/Users/chrisseto/.virtualenvs/waterbutler/lib/python3.4/site-packages/httpretty/core.py\u001b[0m(412)\u001b[0;36mdebug\u001b[0;34m()\u001b[0m\n",
        "\u001b[0;32m    410 \u001b[0;31m                    \u001b[0;34m\"\"\u001b[0m\u001b[0;34m.\u001b[0m\u001b[0mjoin\u001b[0m\u001b[0;34m(\u001b[0m\u001b[0mdecode_utf8\u001b[0m\u001b[0;34m(\u001b[0m\u001b[0mlines\u001b[0m\u001b[0;34m)\u001b[0m\u001b[0;34m)\u001b[0m\u001b[0;34m,\u001b[0m\u001b[0;34m\u001b[0m\u001b[0m\n",
        "\u001b[0m\u001b[0;32m    411 \u001b[0;31m                ]\n",
        "\u001b[0m\u001b[0;32m--> 412 \u001b[0;31m                \u001b[0;32mraise\u001b[0m \u001b[0mRuntimeError\u001b[0m\u001b[0;34m(\u001b[0m\u001b[0;34m\"\\n\"\u001b[0m\u001b[0;34m.\u001b[0m\u001b[0mjoin\u001b[0m\u001b[0;34m(\u001b[0m\u001b[0mmessage\u001b[0m\u001b[0;34m)\u001b[0m\u001b[0;34m)\u001b[0m\u001b[0;34m\u001b[0m\u001b[0m\n",
        "\u001b[0m\u001b[0;32m    413 \u001b[0;31m            \u001b[0;32mreturn\u001b[0m \u001b[0mfunc\u001b[0m\u001b[0;34m(\u001b[0m\u001b[0;34m*\u001b[0m\u001b[0ma\u001b[0m\u001b[0;34m,\u001b[0m \u001b[0;34m**\u001b[0m\u001b[0mkw\u001b[0m\u001b[0;34m)\u001b[0m\u001b[0;34m\u001b[0m\u001b[0m\n",
        "\u001b[0m\u001b[0;32m    414 \u001b[0;31m\u001b[0;34m\u001b[0m\u001b[0m\n",
        "\u001b[0m\n"
       ]
      },
      {
       "name": "stdout",
       "output_type": "stream",
       "stream": "stdout",
       "text": [
        "ipdb> up\n"
       ]
      },
      {
       "output_type": "stream",
       "stream": "stdout",
       "text": [
        "> \u001b[0;32m/Users/chrisseto/.virtualenvs/waterbutler/lib/python3.4/site-packages/httpretty/core.py\u001b[0m(419)\u001b[0;36msend\u001b[0;34m()\u001b[0m\n",
        "\u001b[0;32m    418 \u001b[0;31m        \u001b[0;32mdef\u001b[0m \u001b[0msend\u001b[0m\u001b[0;34m(\u001b[0m\u001b[0mself\u001b[0m\u001b[0;34m,\u001b[0m \u001b[0;34m*\u001b[0m\u001b[0margs\u001b[0m\u001b[0;34m,\u001b[0m \u001b[0;34m**\u001b[0m\u001b[0mkwargs\u001b[0m\u001b[0;34m)\u001b[0m\u001b[0;34m:\u001b[0m\u001b[0;34m\u001b[0m\u001b[0m\n",
        "\u001b[0m\u001b[0;32m--> 419 \u001b[0;31m            \u001b[0;32mreturn\u001b[0m \u001b[0mself\u001b[0m\u001b[0;34m.\u001b[0m\u001b[0mdebug\u001b[0m\u001b[0;34m(\u001b[0m\u001b[0mself\u001b[0m\u001b[0;34m.\u001b[0m\u001b[0mtruesock\u001b[0m\u001b[0;34m.\u001b[0m\u001b[0msend\u001b[0m\u001b[0;34m,\u001b[0m \u001b[0;34m*\u001b[0m\u001b[0margs\u001b[0m\u001b[0;34m,\u001b[0m \u001b[0;34m**\u001b[0m\u001b[0mkwargs\u001b[0m\u001b[0;34m)\u001b[0m\u001b[0;34m\u001b[0m\u001b[0m\n",
        "\u001b[0m\u001b[0;32m    420 \u001b[0;31m\u001b[0;34m\u001b[0m\u001b[0m\n",
        "\u001b[0m\n"
       ]
      },
      {
       "name": "stdout",
       "output_type": "stream",
       "stream": "stdout",
       "text": [
        "ipdb> args\n"
       ]
      },
      {
       "output_type": "stream",
       "stream": "stdout",
       "text": [
        "self = <httpretty.core.fakesock.socket object at 0x1084344e0>\n",
        "args = (b'GET / HTTP/1.1\\r\\nACCEPT-ENCODING: gzip, deflate\\r\\nACCEPT: */*\\r\\nHOST: google.com\\r\\nCONTENT-LENGTH: 0\\r\\nCONNECTION: keep-alive\\r\\nUSER-AGENT: Python/3.4 aiohttp/0.11.0\\r\\n\\r\\n',)\n",
        "kwargs = {}\n"
       ]
      },
      {
       "name": "stdout",
       "output_type": "stream",
       "stream": "stdout",
       "text": [
        "ipdb> self.debug\n"
       ]
      },
      {
       "output_type": "stream",
       "stream": "stdout",
       "text": [
        "<bound method socket.debug of <httpretty.core.fakesock.socket object at 0x1084344e0>>\n"
       ]
      }
     ]
    },
    {
     "cell_type": "code",
     "collapsed": false,
     "input": [],
     "language": "python",
     "metadata": {},
     "outputs": []
    }
   ],
   "metadata": {}
  }
 ]
}